{
 "cells": [
  {
   "cell_type": "markdown",
   "metadata": {},
   "source": [
    "# Introduction\n",
    "This example looks at the Kaggle Credit Card Fraud Detection dataset to demonstrate how to train a classification model on data with highly imbalanced classes."
   ]
  },
  {
   "cell_type": "code",
   "execution_count": 30,
   "metadata": {},
   "outputs": [
    {
     "name": "stdout",
     "output_type": "stream",
     "text": [
      "HEADER: \"Time\",\"V1\",\"V2\",\"V3\",\"V4\",\"V5\",\"V6\",\"V7\",\"V8\",\"V9\",\"V10\",\"V11\",\"V12\",\"V13\",\"V14\",\"V15\",\"V16\",\"V17\",\"V18\",\"V19\",\"V20\",\"V21\",\"V22\",\"V23\",\"V24\",\"V25\",\"V26\",\"V27\",\"V28\",\"Amount\",\"Class\"\n",
      "EXAMPLE FEATURES: [0.0, -1.3598071336738, -0.0727811733098497, 2.53634673796914, 1.37815522427443, -0.338320769942518, 0.462387777762292, 0.239598554061257, 0.0986979012610507, 0.363786969611213, 0.0907941719789316, -0.551599533260813, -0.617800855762348, -0.991389847235408, -0.311169353699879, 1.46817697209427, -0.470400525259478, 0.207971241929242, 0.0257905801985591, 0.403992960255733, 0.251412098239705, -0.018306777944153, 0.277837575558899, -0.110473910188767, 0.0669280749146731, 0.128539358273528, -0.189114843888824, 0.133558376740387, -0.0210530534538215, 149.62]\n",
      "features.shape: (284807, 30)\n",
      "targets.shape: (284807, 1)\n"
     ]
    }
   ],
   "source": [
    "import numpy as np\n",
    "import csv\n",
    "\n",
    "# Get the real data from https://www.kaggle.com/mlg-ulb/creditcardfraud/\n",
    "fname = \"./data/imbalanced-classification/creditcard.csv\"\n",
    "\n",
    "all_features = []\n",
    "all_targets = []\n",
    "with open(fname) as f:\n",
    "    for i, line in enumerate(f):\n",
    "        if i == 0:\n",
    "            print(\"HEADER:\", line.strip())\n",
    "            continue # skip header\n",
    "        fields = line.strip().split(\",\")\n",
    "        all_features.append([float(v.replace('\"', \"\")) for v in fields[:-1]])\n",
    "        all_targets.append([int(fields[-1].replace('\"', \"\"))])\n",
    "        if i == 1:\n",
    "            print(\"EXAMPLE FEATURES:\", all_features[-1])\n",
    "features = np.array(all_features, dtype=\"float32\")\n",
    "targets = np.array(all_targets, dtype=\"uint8\")\n",
    "print(\"features.shape:\", features.shape)\n",
    "print(\"targets.shape:\", targets.shape)"
   ]
  },
  {
   "cell_type": "markdown",
   "metadata": {},
   "source": [
    "# Prepare a validation set"
   ]
  },
  {
   "cell_type": "code",
   "execution_count": 31,
   "metadata": {},
   "outputs": [
    {
     "name": "stdout",
     "output_type": "stream",
     "text": [
      "Number of training samples: 227846\n",
      "Number of validation samples: 56961\n"
     ]
    }
   ],
   "source": [
    "num_val_samples = int(len(features) * 0.2)\n",
    "train_features = features[:-num_val_samples]\n",
    "train_targets = targets[:-num_val_samples]\n",
    "val_features = features[-num_val_samples:]\n",
    "val_targets = targets[-num_val_samples:]\n",
    "\n",
    "print(\"Number of training samples:\", len(train_features))\n",
    "print(\"Number of validation samples:\", len(val_features))"
   ]
  },
  {
   "cell_type": "markdown",
   "metadata": {},
   "source": [
    "# Analyze class imbalance in the targets"
   ]
  },
  {
   "cell_type": "code",
   "execution_count": 32,
   "metadata": {},
   "outputs": [
    {
     "name": "stdout",
     "output_type": "stream",
     "text": [
      "# of count for class 0: 227429\n",
      "# of count for class 1: 417\n"
     ]
    }
   ],
   "source": [
    "counts = np.bincount(train_targets[:, 0])\n",
    "for i, count in enumerate(counts):\n",
    "    print(\"# of count for class {}: {}\".format(i, count))"
   ]
  },
  {
   "cell_type": "code",
   "execution_count": 33,
   "metadata": {},
   "outputs": [
    {
     "name": "stdout",
     "output_type": "stream",
     "text": [
      "Number of positive samples in training data: 417 (0.18% of total)\n",
      "weight for class 0: 4.396976638863118e-06\n",
      "weight for class 1: 0.002398081534772182\n"
     ]
    }
   ],
   "source": [
    "print(\n",
    "    \"Number of positive samples in training data: {} ({:.2f}% of total)\".format(\n",
    "        counts[1], 100 * float(counts[1]) / len(train_targets)\n",
    "    )\n",
    ")\n",
    "\n",
    "weight_for_0 = 1.0 / counts[0]\n",
    "weight_for_1 = 1.0 / counts[1]\n",
    "\n",
    "print(\"weight for class 0: {}\".format(weight_for_0))\n",
    "print(\"weight for class 1: {}\".format(weight_for_1))"
   ]
  },
  {
   "cell_type": "markdown",
   "metadata": {},
   "source": [
    "# Normalize the data using ***training*** set statistics"
   ]
  },
  {
   "cell_type": "code",
   "execution_count": 34,
   "metadata": {},
   "outputs": [],
   "source": [
    "mean = np.mean(train_features, axis=0)\n",
    "train_features -= mean\n",
    "val_features -= mean\n",
    "std = np.std(train_features, axis=0)\n",
    "train_features /= std\n",
    "val_features /= std"
   ]
  },
  {
   "cell_type": "markdown",
   "metadata": {},
   "source": [
    "# Build a binary classification model"
   ]
  },
  {
   "cell_type": "code",
   "execution_count": 39,
   "metadata": {},
   "outputs": [
    {
     "name": "stdout",
     "output_type": "stream",
     "text": [
      "Model: \"sequential_2\"\n",
      "_________________________________________________________________\n",
      "Layer (type)                 Output Shape              Param #   \n",
      "=================================================================\n",
      "dense_8 (Dense)              (None, 256)               7936      \n",
      "_________________________________________________________________\n",
      "dense_9 (Dense)              (None, 256)               65792     \n",
      "_________________________________________________________________\n",
      "dropout_4 (Dropout)          (None, 256)               0         \n",
      "_________________________________________________________________\n",
      "dense_10 (Dense)             (None, 256)               65792     \n",
      "_________________________________________________________________\n",
      "dropout_5 (Dropout)          (None, 256)               0         \n",
      "_________________________________________________________________\n",
      "dense_11 (Dense)             (None, 1)                 257       \n",
      "=================================================================\n",
      "Total params: 139,777\n",
      "Trainable params: 139,777\n",
      "Non-trainable params: 0\n",
      "_________________________________________________________________\n"
     ]
    }
   ],
   "source": [
    "from tensorflow import keras\n",
    "\n",
    "l = keras.layers\n",
    "\n",
    "model = keras.Sequential([\n",
    "    l.Dense(256, activation='relu', input_shape=(train_features.shape[-1],)),\n",
    "    l.Dense(256, activation='relu'),\n",
    "    l.Dropout(0.3),\n",
    "    l.Dense(256, activation='relu'),\n",
    "    l.Dropout(0.3),\n",
    "    l.Dense(1, activation='sigmoid'),\n",
    "])\n",
    "\n",
    "model.summary()"
   ]
  },
  {
   "cell_type": "markdown",
   "metadata": {},
   "source": [
    "# Train the model with `class_weight` argument"
   ]
  },
  {
   "cell_type": "code",
   "execution_count": 40,
   "metadata": {},
   "outputs": [
    {
     "name": "stdout",
     "output_type": "stream",
     "text": [
      "Epoch 1/30\n",
      "112/112 - 1s - loss: 2.1828e-06 - fn: 44.0000 - fp: 20476.0000 - tn: 206953.0000 - tp: 373.0000 - precision: 0.0179 - recall: 0.8945 - val_loss: 0.0558 - val_fn: 13.0000 - val_fp: 142.0000 - val_tn: 56744.0000 - val_tp: 62.0000 - val_precision: 0.3039 - val_recall: 0.8267\n",
      "Epoch 2/30\n",
      "112/112 - 0s - loss: 1.4087e-06 - fn: 34.0000 - fp: 7972.0000 - tn: 219457.0000 - tp: 383.0000 - precision: 0.0458 - recall: 0.9185 - val_loss: 0.1180 - val_fn: 8.0000 - val_fp: 1642.0000 - val_tn: 55244.0000 - val_tp: 67.0000 - val_precision: 0.0392 - val_recall: 0.8933\n",
      "Epoch 3/30\n",
      "112/112 - 0s - loss: 1.3253e-06 - fn: 35.0000 - fp: 7718.0000 - tn: 219711.0000 - tp: 382.0000 - precision: 0.0472 - recall: 0.9161 - val_loss: 0.0756 - val_fn: 8.0000 - val_fp: 1239.0000 - val_tn: 55647.0000 - val_tp: 67.0000 - val_precision: 0.0513 - val_recall: 0.8933\n",
      "Epoch 4/30\n",
      "112/112 - 0s - loss: 1.1060e-06 - fn: 28.0000 - fp: 8040.0000 - tn: 219389.0000 - tp: 389.0000 - precision: 0.0462 - recall: 0.9329 - val_loss: 0.0741 - val_fn: 9.0000 - val_fp: 779.0000 - val_tn: 56107.0000 - val_tp: 66.0000 - val_precision: 0.0781 - val_recall: 0.8800\n",
      "Epoch 5/30\n",
      "112/112 - 0s - loss: 9.8833e-07 - fn: 27.0000 - fp: 8059.0000 - tn: 219370.0000 - tp: 390.0000 - precision: 0.0462 - recall: 0.9353 - val_loss: 0.1334 - val_fn: 5.0000 - val_fp: 2851.0000 - val_tn: 54035.0000 - val_tp: 70.0000 - val_precision: 0.0240 - val_recall: 0.9333\n",
      "Epoch 6/30\n",
      "112/112 - 0s - loss: 8.4523e-07 - fn: 18.0000 - fp: 6415.0000 - tn: 221014.0000 - tp: 399.0000 - precision: 0.0586 - recall: 0.9568 - val_loss: 0.0940 - val_fn: 6.0000 - val_fp: 2210.0000 - val_tn: 54676.0000 - val_tp: 69.0000 - val_precision: 0.0303 - val_recall: 0.9200\n",
      "Epoch 7/30\n",
      "112/112 - 0s - loss: 7.4541e-07 - fn: 15.0000 - fp: 6570.0000 - tn: 220859.0000 - tp: 402.0000 - precision: 0.0577 - recall: 0.9640 - val_loss: 0.0367 - val_fn: 10.0000 - val_fp: 706.0000 - val_tn: 56180.0000 - val_tp: 65.0000 - val_precision: 0.0843 - val_recall: 0.8667\n",
      "Epoch 8/30\n",
      "112/112 - 0s - loss: 6.4826e-07 - fn: 14.0000 - fp: 6338.0000 - tn: 221091.0000 - tp: 403.0000 - precision: 0.0598 - recall: 0.9664 - val_loss: 0.0448 - val_fn: 9.0000 - val_fp: 1059.0000 - val_tn: 55827.0000 - val_tp: 66.0000 - val_precision: 0.0587 - val_recall: 0.8800\n",
      "Epoch 9/30\n",
      "112/112 - 0s - loss: 5.9046e-07 - fn: 9.0000 - fp: 6358.0000 - tn: 221071.0000 - tp: 408.0000 - precision: 0.0603 - recall: 0.9784 - val_loss: 0.0578 - val_fn: 7.0000 - val_fp: 1270.0000 - val_tn: 55616.0000 - val_tp: 68.0000 - val_precision: 0.0508 - val_recall: 0.9067\n",
      "Epoch 10/30\n",
      "112/112 - 0s - loss: 1.0113e-06 - fn: 13.0000 - fp: 10841.0000 - tn: 216588.0000 - tp: 404.0000 - precision: 0.0359 - recall: 0.9688 - val_loss: 0.0826 - val_fn: 7.0000 - val_fp: 1750.0000 - val_tn: 55136.0000 - val_tp: 68.0000 - val_precision: 0.0374 - val_recall: 0.9067\n",
      "Epoch 11/30\n",
      "112/112 - 0s - loss: 7.7644e-07 - fn: 17.0000 - fp: 7795.0000 - tn: 219634.0000 - tp: 400.0000 - precision: 0.0488 - recall: 0.9592 - val_loss: 0.0431 - val_fn: 10.0000 - val_fp: 743.0000 - val_tn: 56143.0000 - val_tp: 65.0000 - val_precision: 0.0804 - val_recall: 0.8667\n",
      "Epoch 12/30\n",
      "112/112 - 0s - loss: 6.8612e-07 - fn: 13.0000 - fp: 7260.0000 - tn: 220169.0000 - tp: 404.0000 - precision: 0.0527 - recall: 0.9688 - val_loss: 0.0277 - val_fn: 11.0000 - val_fp: 525.0000 - val_tn: 56361.0000 - val_tp: 64.0000 - val_precision: 0.1087 - val_recall: 0.8533\n",
      "Epoch 13/30\n",
      "112/112 - 0s - loss: 4.3147e-07 - fn: 4.0000 - fp: 5065.0000 - tn: 222364.0000 - tp: 413.0000 - precision: 0.0754 - recall: 0.9904 - val_loss: 0.0617 - val_fn: 8.0000 - val_fp: 1934.0000 - val_tn: 54952.0000 - val_tp: 67.0000 - val_precision: 0.0335 - val_recall: 0.8933\n",
      "Epoch 14/30\n",
      "112/112 - 0s - loss: 3.6826e-07 - fn: 4.0000 - fp: 4440.0000 - tn: 222989.0000 - tp: 413.0000 - precision: 0.0851 - recall: 0.9904 - val_loss: 0.0333 - val_fn: 9.0000 - val_fp: 736.0000 - val_tn: 56150.0000 - val_tp: 66.0000 - val_precision: 0.0823 - val_recall: 0.8800\n",
      "Epoch 15/30\n",
      "112/112 - 0s - loss: 3.6645e-07 - fn: 2.0000 - fp: 5029.0000 - tn: 222400.0000 - tp: 415.0000 - precision: 0.0762 - recall: 0.9952 - val_loss: 0.0478 - val_fn: 8.0000 - val_fp: 1001.0000 - val_tn: 55885.0000 - val_tp: 67.0000 - val_precision: 0.0627 - val_recall: 0.8933\n",
      "Epoch 16/30\n",
      "112/112 - 0s - loss: 4.0071e-07 - fn: 7.0000 - fp: 5346.0000 - tn: 222083.0000 - tp: 410.0000 - precision: 0.0712 - recall: 0.9832 - val_loss: 0.0172 - val_fn: 12.0000 - val_fp: 371.0000 - val_tn: 56515.0000 - val_tp: 63.0000 - val_precision: 0.1452 - val_recall: 0.8400\n",
      "Epoch 17/30\n",
      "112/112 - 0s - loss: 3.6052e-07 - fn: 2.0000 - fp: 4406.0000 - tn: 223023.0000 - tp: 415.0000 - precision: 0.0861 - recall: 0.9952 - val_loss: 0.0367 - val_fn: 9.0000 - val_fp: 1029.0000 - val_tn: 55857.0000 - val_tp: 66.0000 - val_precision: 0.0603 - val_recall: 0.8800\n",
      "Epoch 18/30\n",
      "112/112 - 0s - loss: 4.5530e-07 - fn: 5.0000 - fp: 5801.0000 - tn: 221628.0000 - tp: 412.0000 - precision: 0.0663 - recall: 0.9880 - val_loss: 0.1049 - val_fn: 7.0000 - val_fp: 2124.0000 - val_tn: 54762.0000 - val_tp: 68.0000 - val_precision: 0.0310 - val_recall: 0.9067\n",
      "Epoch 19/30\n",
      "112/112 - 0s - loss: 4.9886e-07 - fn: 7.0000 - fp: 6020.0000 - tn: 221409.0000 - tp: 410.0000 - precision: 0.0638 - recall: 0.9832 - val_loss: 0.0462 - val_fn: 9.0000 - val_fp: 884.0000 - val_tn: 56002.0000 - val_tp: 66.0000 - val_precision: 0.0695 - val_recall: 0.8800\n",
      "Epoch 20/30\n",
      "112/112 - 0s - loss: 4.7234e-07 - fn: 5.0000 - fp: 5759.0000 - tn: 221670.0000 - tp: 412.0000 - precision: 0.0668 - recall: 0.9880 - val_loss: 0.0558 - val_fn: 8.0000 - val_fp: 1128.0000 - val_tn: 55758.0000 - val_tp: 67.0000 - val_precision: 0.0561 - val_recall: 0.8933\n",
      "Epoch 21/30\n",
      "112/112 - 0s - loss: 4.2121e-07 - fn: 5.0000 - fp: 5075.0000 - tn: 222354.0000 - tp: 412.0000 - precision: 0.0751 - recall: 0.9880 - val_loss: 0.0473 - val_fn: 7.0000 - val_fp: 1178.0000 - val_tn: 55708.0000 - val_tp: 68.0000 - val_precision: 0.0546 - val_recall: 0.9067\n",
      "Epoch 22/30\n",
      "112/112 - 0s - loss: 2.8126e-07 - fn: 3.0000 - fp: 3690.0000 - tn: 223739.0000 - tp: 414.0000 - precision: 0.1009 - recall: 0.9928 - val_loss: 0.0184 - val_fn: 9.0000 - val_fp: 444.0000 - val_tn: 56442.0000 - val_tp: 66.0000 - val_precision: 0.1294 - val_recall: 0.8800\n",
      "Epoch 23/30\n",
      "112/112 - 0s - loss: 5.0436e-07 - fn: 4.0000 - fp: 5046.0000 - tn: 222383.0000 - tp: 413.0000 - precision: 0.0757 - recall: 0.9904 - val_loss: 0.0374 - val_fn: 8.0000 - val_fp: 579.0000 - val_tn: 56307.0000 - val_tp: 67.0000 - val_precision: 0.1037 - val_recall: 0.8933\n",
      "Epoch 24/30\n",
      "112/112 - 0s - loss: 1.2650e-06 - fn: 15.0000 - fp: 8237.0000 - tn: 219192.0000 - tp: 402.0000 - precision: 0.0465 - recall: 0.9640 - val_loss: 0.0469 - val_fn: 10.0000 - val_fp: 1006.0000 - val_tn: 55880.0000 - val_tp: 65.0000 - val_precision: 0.0607 - val_recall: 0.8667\n",
      "Epoch 25/30\n",
      "112/112 - 0s - loss: 6.9256e-07 - fn: 11.0000 - fp: 6875.0000 - tn: 220554.0000 - tp: 406.0000 - precision: 0.0558 - recall: 0.9736 - val_loss: 0.0631 - val_fn: 6.0000 - val_fp: 937.0000 - val_tn: 55949.0000 - val_tp: 69.0000 - val_precision: 0.0686 - val_recall: 0.9200\n",
      "Epoch 26/30\n",
      "112/112 - 0s - loss: 5.7748e-07 - fn: 6.0000 - fp: 4689.0000 - tn: 222740.0000 - tp: 411.0000 - precision: 0.0806 - recall: 0.9856 - val_loss: 0.0417 - val_fn: 11.0000 - val_fp: 381.0000 - val_tn: 56505.0000 - val_tp: 64.0000 - val_precision: 0.1438 - val_recall: 0.8533\n",
      "Epoch 27/30\n",
      "112/112 - 0s - loss: 7.9608e-07 - fn: 4.0000 - fp: 4928.0000 - tn: 222501.0000 - tp: 413.0000 - precision: 0.0773 - recall: 0.9904 - val_loss: 0.0205 - val_fn: 9.0000 - val_fp: 427.0000 - val_tn: 56459.0000 - val_tp: 66.0000 - val_precision: 0.1339 - val_recall: 0.8800\n",
      "Epoch 28/30\n",
      "112/112 - 0s - loss: 3.0338e-07 - fn: 4.0000 - fp: 2796.0000 - tn: 224633.0000 - tp: 413.0000 - precision: 0.1287 - recall: 0.9904 - val_loss: 0.0188 - val_fn: 11.0000 - val_fp: 423.0000 - val_tn: 56463.0000 - val_tp: 64.0000 - val_precision: 0.1314 - val_recall: 0.8533\n",
      "Epoch 29/30\n",
      "112/112 - 0s - loss: 3.4030e-07 - fn: 1.0000 - fp: 3288.0000 - tn: 224141.0000 - tp: 416.0000 - precision: 0.1123 - recall: 0.9976 - val_loss: 0.0099 - val_fn: 11.0000 - val_fp: 175.0000 - val_tn: 56711.0000 - val_tp: 64.0000 - val_precision: 0.2678 - val_recall: 0.8533\n",
      "Epoch 30/30\n",
      "112/112 - 0s - loss: 1.0040e-06 - fn: 9.0000 - fp: 4059.0000 - tn: 223370.0000 - tp: 408.0000 - precision: 0.0913 - recall: 0.9784 - val_loss: 0.0176 - val_fn: 10.0000 - val_fp: 287.0000 - val_tn: 56599.0000 - val_tp: 65.0000 - val_precision: 0.1847 - val_recall: 0.8667\n"
     ]
    },
    {
     "data": {
      "text/plain": [
       "<tensorflow.python.keras.callbacks.History at 0x7f3bbfb26a10>"
      ]
     },
     "execution_count": 40,
     "metadata": {},
     "output_type": "execute_result"
    }
   ],
   "source": [
    "m = keras.metrics\n",
    "\n",
    "metrics = [\n",
    "    m.FalseNegatives(name='fn'),\n",
    "    m.FalsePositives(name='fp'),\n",
    "    m.TrueNegatives(name='tn'),\n",
    "    m.TruePositives(name='tp'),\n",
    "    m.Precision(name='precision'),\n",
    "    m.Recall(name='recall'),\n",
    "]\n",
    "\n",
    "model.compile(optimizer=keras.optimizers.Adam(1e-2),\n",
    "              loss='binary_crossentropy',\n",
    "              metrics=metrics)\n",
    "\n",
    "callbacks = [keras.callbacks.ModelCheckpoint(\"./checkpoints/imbalanced-classification/fraud_model_at_epoch_{epoch}.h5\")]\n",
    "class_weight = {0: weight_for_0, 1: weight_for_1}\n",
    "\n",
    "model.fit(\n",
    "    train_features,\n",
    "    train_targets,\n",
    "    batch_size=2048,\n",
    "    epochs=30,\n",
    "    verbose=2,\n",
    "    callbacks=callbacks,\n",
    "    validation_data=(val_features, val_targets),\n",
    "    class_weight=class_weight,\n",
    ")"
   ]
  },
  {
   "cell_type": "code",
   "execution_count": null,
   "metadata": {},
   "outputs": [],
   "source": []
  }
 ],
 "metadata": {
  "kernelspec": {
   "display_name": "Python 3",
   "language": "python",
   "name": "python3"
  },
  "language_info": {
   "codemirror_mode": {
    "name": "ipython",
    "version": 3
   },
   "file_extension": ".py",
   "mimetype": "text/x-python",
   "name": "python",
   "nbconvert_exporter": "python",
   "pygments_lexer": "ipython3",
   "version": "3.7.5"
  }
 },
 "nbformat": 4,
 "nbformat_minor": 4
}
